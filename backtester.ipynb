{
 "cells": [
  {
   "cell_type": "code",
   "execution_count": 115,
   "metadata": {},
   "outputs": [],
   "source": [
    "import numpy as np\n",
    "import pandas as pd\n",
    "from IPython.core.debugger import set_trace\n",
    "from tqdm import tqdm_notebook\n",
    "# from matplotlib import rcParams\n",
    "\n",
    "# rcParams['font.family'] = u'Malgun Gothic'\n",
    "%matplotlib inline"
   ]
  },
  {
   "cell_type": "markdown",
   "metadata": {},
   "source": [
    "# DB 만들기"
   ]
  },
  {
   "cell_type": "code",
   "execution_count": 2,
   "metadata": {},
   "outputs": [],
   "source": [
    "pd.read_excel('quantking.xlsx', sheet_name='x').to_excel('quantking_x.xlsx', sheet_name='data')"
   ]
  },
  {
   "cell_type": "code",
   "execution_count": 2,
   "metadata": {},
   "outputs": [],
   "source": [
    "fin = pd.read_excel('quantking_db.xlsx', sheet_name='fin', index_col=[0], header=[0,1])\n",
    "mc = pd.read_excel('quantking_db.xlsx', sheet_name='mc', index_col=[0], header=[0])"
   ]
  },
  {
   "cell_type": "code",
   "execution_count": 72,
   "metadata": {},
   "outputs": [],
   "source": [
    "fin = fin.stack()\n",
    "mc = mc.T"
   ]
  },
  {
   "cell_type": "code",
   "execution_count": 75,
   "metadata": {},
   "outputs": [],
   "source": [
    "fin.to_pickle('fin.pkl')\n",
    "mc.to_pickle('mc.pkl')"
   ]
  },
  {
   "cell_type": "code",
   "execution_count": 76,
   "metadata": {},
   "outputs": [],
   "source": [
    "fin.to_excel('fin.xlsx', sheet_name='fin')\n",
    "mc.to_excel('mc.xlsx', sheet_name='mc')"
   ]
  },
  {
   "cell_type": "code",
   "execution_count": 4,
   "metadata": {},
   "outputs": [],
   "source": [
    "fin = pd.read_pickle('fin.pkl')\n",
    "mc = pd.read_pickle('mc.pkl')"
   ]
  },
  {
   "cell_type": "code",
   "execution_count": null,
   "metadata": {},
   "outputs": [],
   "source": []
  },
  {
   "cell_type": "markdown",
   "metadata": {},
   "source": [
    "# 전략 만들기"
   ]
  },
  {
   "cell_type": "code",
   "execution_count": 22,
   "metadata": {},
   "outputs": [],
   "source": [
    "def get_year(date):\n",
    "    if type(date)==str:\n",
    "        date = pd.Timestamp(date)\n",
    "        \n",
    "    year = date.year\n",
    "    if date.month < 6:\n",
    "        year -= 1\n",
    "        \n",
    "    return year\n",
    "    \n",
    "    \n",
    "def 매출상위10(date, fin=None, mc=None, n=10):\n",
    "    year = get_year(date)\n",
    "    position = fin['매출액'].xs(year, level=1).nlargest(n)\n",
    "    position[:] = 1/len(position)\n",
    "    return position\n",
    "\n",
    "def BM(date, fin=None, mc=None, n=200):\n",
    "    position = mc.loc[date].nlargest(n)\n",
    "    position[:] /= position.sum()\n",
    "    return position"
   ]
  },
  {
   "cell_type": "code",
   "execution_count": 25,
   "metadata": {
    "collapsed": true
   },
   "outputs": [
    {
     "data": {
      "text/plain": [
       "A005930    0.1\n",
       "A034730    0.1\n",
       "A005380    0.1\n",
       "A005490    0.1\n",
       "A066570    0.1\n",
       "A015760    0.1\n",
       "A096770    0.1\n",
       "A000270    0.1\n",
       "A000880    0.1\n",
       "A000660    0.1\n",
       "Name: 매출액, dtype: float64"
      ]
     },
     "execution_count": 25,
     "metadata": {},
     "output_type": "execute_result"
    }
   ],
   "source": [
    "매출상위10('2019-03-31', fin=fin, mc=mc)"
   ]
  },
  {
   "cell_type": "code",
   "execution_count": 28,
   "metadata": {
    "collapsed": true
   },
   "outputs": [
    {
     "data": {
      "text/plain": [
       "A005930    0.188755\n",
       "A005380    0.033011\n",
       "A000660    0.029724\n",
       "A015760    0.026269\n",
       "A012330    0.021445\n",
       "A017670    0.020180\n",
       "A035420    0.020144\n",
       "A005490    0.018973\n",
       "A018260    0.018887\n",
       "A028260    0.018353\n",
       "A055550    0.017532\n",
       "A032830    0.017212\n",
       "A090430    0.017002\n",
       "A000270    0.016460\n",
       "A105560    0.013469\n",
       "A051910    0.013381\n",
       "A051900    0.011198\n",
       "A000810    0.011138\n",
       "A033780    0.011076\n",
       "A034730    0.010477\n",
       "A002790    0.010160\n",
       "A034220    0.010130\n",
       "A003550    0.009430\n",
       "A006400    0.008855\n",
       "A066570    0.008635\n",
       "A009540    0.008354\n",
       "A004020    0.007875\n",
       "A096770    0.007650\n",
       "A086280    0.007639\n",
       "A086790    0.007388\n",
       "             ...   \n",
       "A004000    0.000967\n",
       "A084990    0.000943\n",
       "A034830    0.000923\n",
       "A069260    0.000921\n",
       "A036490    0.000916\n",
       "A069080    0.000895\n",
       "A056190    0.000893\n",
       "A002270    0.000866\n",
       "A096530    0.000863\n",
       "A003000    0.000825\n",
       "A030530    0.000820\n",
       "A037560    0.000817\n",
       "A093050    0.000816\n",
       "A170900    0.000816\n",
       "A002240    0.000809\n",
       "A089590    0.000804\n",
       "A004700    0.000800\n",
       "A014820    0.000799\n",
       "A122900    0.000784\n",
       "A084690    0.000780\n",
       "A024720    0.000775\n",
       "A022100    0.000763\n",
       "A003670    0.000743\n",
       "A020000    0.000740\n",
       "A900140    0.000728\n",
       "A053210    0.000725\n",
       "A005180    0.000722\n",
       "A000070    0.000714\n",
       "A018670    0.000713\n",
       "A175330    0.000704\n",
       "Name: 2015-03-31 00:00:00, Length: 200, dtype: float64"
      ]
     },
     "execution_count": 28,
     "metadata": {},
     "output_type": "execute_result"
    }
   ],
   "source": [
    "BM('2015-03-31', fin=fin, mc=mc)"
   ]
  },
  {
   "cell_type": "code",
   "execution_count": null,
   "metadata": {},
   "outputs": [],
   "source": []
  },
  {
   "cell_type": "markdown",
   "metadata": {},
   "source": [
    "# 백테스트"
   ]
  },
  {
   "cell_type": "code",
   "execution_count": 35,
   "metadata": {},
   "outputs": [],
   "source": [
    "dates = mc.index[8:]\n",
    "positions = {}\n",
    "nav = {}\n",
    "positions_bm = {}\n",
    "nav_bm = {}\n",
    "\n",
    "for i,date in enumerate(dates):\n",
    "    positions[date] = 매출상위10(date, fin=fin, mc=mc)\n",
    "    positions_bm[date] = BM(date, fin=fin, mc=mc)\n",
    "    \n",
    "    if i==0:\n",
    "        nav[date] = 1\n",
    "        nav_bm[date] = 1\n",
    "    \n",
    "    else:\n",
    "        date_prev = dates[i-1]\n",
    "        nav[date] = get_nav(nav, positions, date_prev, date, mc)\n",
    "        nav_bm[date] = get_nav(nav_bm, positions_bm, date_prev, date, mc)"
   ]
  },
  {
   "cell_type": "code",
   "execution_count": 32,
   "metadata": {},
   "outputs": [],
   "source": [
    "def get_nav(nav, positions, date_prev, date, mc):\n",
    "    nav_prev = nav[date_prev]\n",
    "    pos_prev = positions[date_prev]\n",
    "    assets_prev = pos_prev.index\n",
    "    pos_update = mc.loc[date, assets_prev] / mc.loc[date_prev, assets_prev] * pos_prev\n",
    "    return nav_prev * pos_update.sum()"
   ]
  },
  {
   "cell_type": "code",
   "execution_count": 48,
   "metadata": {
    "collapsed": true
   },
   "outputs": [
    {
     "data": {
      "text/plain": [
       "<matplotlib.axes._subplots.AxesSubplot at 0x1e116e75a20>"
      ]
     },
     "execution_count": 48,
     "metadata": {},
     "output_type": "execute_result"
    },
    {
     "data": {
      "image/png": "[encoded data removed]",
      "text/plain": [
       "<Figure size 432x288 with 1 Axes>"
      ]
     },
     "metadata": {
      "needs_background": "light"
     },
     "output_type": "display_data"
    }
   ],
   "source": [
    "pd.DataFrame({'Strategy':nav, 'BM':nav_bm}).plot()"
   ]
  },
  {
   "cell_type": "code",
   "execution_count": null,
   "metadata": {},
   "outputs": [],
   "source": []
  },
  {
   "cell_type": "code",
   "execution_count": 116,
   "metadata": {},
   "outputs": [],
   "source": [
    "class Backtest:\n",
    "    def __init__(self, strat=None, bm=None, fin=None, mc=None):\n",
    "        self.strat = strat\n",
    "        self.bm = bm\n",
    "        self.fin = fin\n",
    "        self.mc = mc\n",
    "        \n",
    "    def run(self):\n",
    "        dates = self.mc.index[8:]\n",
    "        positions = {}\n",
    "        nav = {}\n",
    "        positions_bm = {}\n",
    "        nav_bm = {}\n",
    "\n",
    "        for i,date in enumerate(tqdm_notebook(dates)):\n",
    "            positions[date] = self.strat(date, fin=fin, mc=mc)\n",
    "            positions_bm[date] = self.bm(date, fin=fin, mc=mc)\n",
    "\n",
    "            if i==0:\n",
    "                nav[date] = 1\n",
    "                nav_bm[date] = 1\n",
    "\n",
    "            else:\n",
    "                date_prev = dates[i-1]\n",
    "                nav[date] = self._get_nav(nav, positions, date_prev, date)\n",
    "                nav_bm[date] = self._get_nav(nav_bm, positions_bm, date_prev, date)\n",
    "                \n",
    "        self.nav = nav\n",
    "        self.nav_bm = nav_bm\n",
    "        self.positions = positions\n",
    "        self.positions_bm = positions_bm\n",
    "                \n",
    "                \n",
    "    def _get_nav(self, nav, positions, date_prev, date):\n",
    "        nav_prev = nav[date_prev]\n",
    "        pos_prev = positions[date_prev]\n",
    "        assets_prev = pos_prev.index\n",
    "        pos_update = self.mc.loc[date, assets_prev] / self.mc.loc[date_prev, assets_prev] * pos_prev\n",
    "        return nav_prev * pos_update.sum()\n",
    "    \n",
    "    \n",
    "    def get_navs(self):\n",
    "        return pd.DataFrame({'Strategy':self.nav, 'BM':self.nav_bm})\n",
    "    \n",
    "    def plot_perf(self):\n",
    "        self.get_navs().plot()\n",
    "        \n",
    "    def stats(self):\n",
    "        navs = bt.get_navs()\n",
    "        days_all = (navs.index[-1]-navs.index[0]).days\n",
    "        ann_rtn = (navs.iloc[-1]**(365/days_all))-1\n",
    "        return pd.DataFrame({'연수익률':ann_rtn, '변동성':vol, '샤프':ann_rtn/vol})"
   ]
  },
  {
   "cell_type": "code",
   "execution_count": 66,
   "metadata": {},
   "outputs": [
    {
     "data": {
      "image/png": "[encoded data removed]",
      "text/plain": [
       "<Figure size 432x288 with 1 Axes>"
      ]
     },
     "metadata": {
      "needs_background": "light"
     },
     "output_type": "display_data"
    }
   ],
   "source": [
    "bt = Backtest(strat=매출상위10, bm=BM, fin=fin, mc=mc)\n",
    "bt.run()\n",
    "bt.plot_perf()"
   ]
  },
  {
   "cell_type": "code",
   "execution_count": 117,
   "metadata": {},
   "outputs": [
    {
     "data": {
      "application/vnd.jupyter.widget-view+json": {
       "model_id": "08f5c7e2428545c5b4f5a8192841710f",
       "version_major": 2,
       "version_minor": 0
      },
      "text/plain": [
       "HBox(children=(IntProgress(value=0, max=32), HTML(value='')))"
      ]
     },
     "metadata": {},
     "output_type": "display_data"
    },
    {
     "name": "stdout",
     "output_type": "stream",
     "text": [
      "\n"
     ]
    },
    {
     "data": {
      "image/png": "[encoded data removed]",
      "text/plain": [
       "<Figure size 432x288 with 1 Axes>"
      ]
     },
     "metadata": {
      "needs_background": "light"
     },
     "output_type": "display_data"
    }
   ],
   "source": [
    "bt = Backtest(strat=시총상위면서저평가, bm=BM, fin=fin, mc=mc)\n",
    "bt.run()\n",
    "bt.plot_perf()"
   ]
  },
  {
   "cell_type": "code",
   "execution_count": 110,
   "metadata": {},
   "outputs": [
    {
     "data": {
      "text/html": [
       "<div>\n",
       "<style scoped>\n",
       "    .dataframe tbody tr th:only-of-type {\n",
       "        vertical-align: middle;\n",
       "    }\n",
       "\n",
       "    .dataframe tbody tr th {\n",
       "        vertical-align: top;\n",
       "    }\n",
       "\n",
       "    .dataframe thead th {\n",
       "        text-align: right;\n",
       "    }\n",
       "</style>\n",
       "<table border=\"1\" class=\"dataframe\">\n",
       "  <thead>\n",
       "    <tr style=\"text-align: right;\">\n",
       "      <th></th>\n",
       "      <th>연수익률</th>\n",
       "      <th>변동성</th>\n",
       "      <th>샤프</th>\n",
       "    </tr>\n",
       "  </thead>\n",
       "  <tbody>\n",
       "    <tr>\n",
       "      <th>Strategy</th>\n",
       "      <td>0.173803</td>\n",
       "      <td>0.234326</td>\n",
       "      <td>0.741717</td>\n",
       "    </tr>\n",
       "    <tr>\n",
       "      <th>BM</th>\n",
       "      <td>0.008227</td>\n",
       "      <td>0.121585</td>\n",
       "      <td>0.067661</td>\n",
       "    </tr>\n",
       "  </tbody>\n",
       "</table>\n",
       "</div>"
      ],
      "text/plain": [
       "              연수익률       변동성        샤프\n",
       "Strategy  0.173803  0.234326  0.741717\n",
       "BM        0.008227  0.121585  0.067661"
      ]
     },
     "execution_count": 110,
     "metadata": {},
     "output_type": "execute_result"
    }
   ],
   "source": [
    "bt.stats()"
   ]
  },
  {
   "cell_type": "code",
   "execution_count": 72,
   "metadata": {},
   "outputs": [],
   "source": [
    "def 시총상위면서저평가(date, fin=None, mc=None, n=10):\n",
    "    year = get_year(date)\n",
    "    marketcap = mc.loc[date].nlargest(200)\n",
    "    univ = marketcap.index\n",
    "    bv = fin['자본총계'].xs(year, level=1).loc[univ]\n",
    "    bp = bv / marketcap\n",
    "    position = bp.nlargest(n)\n",
    "    position[:] = 1/len(position)\n",
    "    return position"
   ]
  },
  {
   "cell_type": "code",
   "execution_count": null,
   "metadata": {},
   "outputs": [],
   "source": []
  },
  {
   "cell_type": "code",
   "execution_count": null,
   "metadata": {},
   "outputs": [],
   "source": []
  }
 ],
 "metadata": {
  "kernelspec": {
   "display_name": "Python 3",
   "language": "python",
   "name": "python3"
  },
  "language_info": {
   "codemirror_mode": {
    "name": "ipython",
    "version": 3
   },
   "file_extension": ".py",
   "mimetype": "text/x-python",
   "name": "python",
   "nbconvert_exporter": "python",
   "pygments_lexer": "ipython3",
   "version": "3.7.1"
  }
 },
 "nbformat": 4,
 "nbformat_minor": 2
}
