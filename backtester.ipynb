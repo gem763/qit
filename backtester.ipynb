{
 "cells": [
  {
   "cell_type": "code",
   "execution_count": 153,
   "metadata": {},
   "outputs": [],
   "source": [
    "import numpy as np\n",
    "import pandas as pd\n",
    "from IPython.core.debugger import set_trace\n",
    "\n",
    "%matplotlib inline"
   ]
  },
  {
   "cell_type": "markdown",
   "metadata": {},
   "source": [
    "# DB 만들기"
   ]
  },
  {
   "cell_type": "code",
   "execution_count": 2,
   "metadata": {},
   "outputs": [],
   "source": [
    "pd.read_excel('quantking.xlsx', sheet_name='x').to_excel('quantking_x.xlsx', sheet_name='data')"
   ]
  },
  {
   "cell_type": "code",
   "execution_count": 67,
   "metadata": {},
   "outputs": [],
   "source": [
    "fin = pd.read_excel('quantking_db.xlsx', sheet_name='fin', index_col=[0], header=[0,1])\n",
    "mc = pd.read_excel('quantking_db.xlsx', sheet_name='mc', index_col=[0], header=[0])"
   ]
  },
  {
   "cell_type": "code",
   "execution_count": 72,
   "metadata": {},
   "outputs": [],
   "source": [
    "fin = fin.stack()\n",
    "mc = mc.T"
   ]
  },
  {
   "cell_type": "code",
   "execution_count": 75,
   "metadata": {},
   "outputs": [],
   "source": [
    "fin.to_pickle('fin.pkl')\n",
    "mc.to_pickle('mc.pkl')"
   ]
  },
  {
   "cell_type": "code",
   "execution_count": 76,
   "metadata": {},
   "outputs": [],
   "source": [
    "fin.to_excel('fin.xlsx', sheet_name='fin')\n",
    "mc.to_excel('mc.xlsx', sheet_name='mc')"
   ]
  },
  {
   "cell_type": "code",
   "execution_count": null,
   "metadata": {},
   "outputs": [],
   "source": []
  },
  {
   "cell_type": "markdown",
   "metadata": {},
   "source": [
    "# 전략 만들기"
   ]
  },
  {
   "cell_type": "code",
   "execution_count": 120,
   "metadata": {},
   "outputs": [],
   "source": [
    "def 매출상위10(date):\n",
    "    if type(date)==str:\n",
    "        date = pd.Timestamp(date)\n",
    "        \n",
    "    year = date.year\n",
    "    if date.month < 6:\n",
    "        year -= 1\n",
    "\n",
    "    position = fin['매출액'].xs(year, level=1).nlargest(10)\n",
    "    position[:] = 1/len(position)\n",
    "    return position"
   ]
  },
  {
   "cell_type": "code",
   "execution_count": 121,
   "metadata": {
    "scrolled": true
   },
   "outputs": [
    {
     "data": {
      "text/plain": [
       "A005930    0.1\n",
       "A005380    0.1\n",
       "A096770    0.1\n",
       "A005490    0.1\n",
       "A066570    0.1\n",
       "A015760    0.1\n",
       "A009540    0.1\n",
       "A000270    0.1\n",
       "A000880    0.1\n",
       "A036460    0.1\n",
       "Name: 매출액, dtype: float64"
      ]
     },
     "execution_count": 121,
     "metadata": {},
     "output_type": "execute_result"
    }
   ],
   "source": [
    "매출상위10('2015-05-31')"
   ]
  },
  {
   "cell_type": "code",
   "execution_count": null,
   "metadata": {},
   "outputs": [],
   "source": []
  },
  {
   "cell_type": "markdown",
   "metadata": {},
   "source": [
    "# 백테스트"
   ]
  },
  {
   "cell_type": "code",
   "execution_count": 146,
   "metadata": {},
   "outputs": [],
   "source": [
    "dates = mc.index[8:]\n",
    "positions = {}\n",
    "nav = {}\n",
    "\n",
    "for i,date in enumerate(dates):\n",
    "    position = 매출상위10(date)\n",
    "    positions[date] = position\n",
    "    \n",
    "    if i==0:\n",
    "        nav[date] = 1\n",
    "    \n",
    "    else:\n",
    "        date_prev = dates[i-1]\n",
    "        nav_prev = nav[date_prev]\n",
    "        pos_prev = positions[date_prev]\n",
    "        assets_prev = pos_prev.index\n",
    "        pos_update = mc.loc[date, assets_prev]/mc.loc[date_prev, assets_prev] * pos_prev\n",
    "        nav[date] = nav_prev * pos_update.sum()"
   ]
  },
  {
   "cell_type": "code",
   "execution_count": 161,
   "metadata": {},
   "outputs": [
    {
     "data": {
      "image/png": "[encoded data removed]",
      "text/plain": [
       "<Figure size 432x288 with 1 Axes>"
      ]
     },
     "metadata": {
      "needs_background": "light"
     },
     "output_type": "display_data"
    }
   ],
   "source": [
    "pd.Series(nav).plot();"
   ]
  },
  {
   "cell_type": "code",
   "execution_count": null,
   "metadata": {},
   "outputs": [],
   "source": []
  },
  {
   "cell_type": "code",
   "execution_count": 133,
   "metadata": {},
   "outputs": [
    {
     "data": {
      "text/plain": [
       "Index(['A005930', 'A005380', 'A005490', 'A096770', 'A066570', 'A009540',\n",
       "       'A015760', 'A000270', 'A010950', 'A036460'],\n",
       "      dtype='object')"
      ]
     },
     "execution_count": 133,
     "metadata": {},
     "output_type": "execute_result"
    }
   ],
   "source": [
    "assets = 매출상위10('2011-06-30').index; assets"
   ]
  },
  {
   "cell_type": "code",
   "execution_count": 134,
   "metadata": {},
   "outputs": [
    {
     "data": {
      "text/plain": [
       "A005930    0.101695\n",
       "A005380    0.089030\n",
       "A005490    0.079957\n",
       "A096770    0.070823\n",
       "A066570    0.083112\n",
       "A009540    0.063360\n",
       "A015760    0.074250\n",
       "A000270    0.099642\n",
       "A010950    0.076364\n",
       "A036460    0.083920\n",
       "dtype: float64"
      ]
     },
     "execution_count": 134,
     "metadata": {},
     "output_type": "execute_result"
    }
   ],
   "source": [
    "mc.loc['2011-09-30', assets]/mc.loc['2011-06-30', assets] * 매출상위10('2011-06-30')"
   ]
  },
  {
   "cell_type": "code",
   "execution_count": null,
   "metadata": {},
   "outputs": [],
   "source": []
  },
  {
   "cell_type": "code",
   "execution_count": null,
   "metadata": {},
   "outputs": [],
   "source": []
  },
  {
   "cell_type": "code",
   "execution_count": null,
   "metadata": {},
   "outputs": [],
   "source": []
  },
  {
   "cell_type": "code",
   "execution_count": null,
   "metadata": {},
   "outputs": [],
   "source": []
  },
  {
   "cell_type": "markdown",
   "metadata": {},
   "source": [
    "# 성과측정"
   ]
  },
  {
   "cell_type": "code",
   "execution_count": null,
   "metadata": {},
   "outputs": [],
   "source": []
  }
 ],
 "metadata": {
  "kernelspec": {
   "display_name": "Python 3",
   "language": "python",
   "name": "python3"
  },
  "language_info": {
   "codemirror_mode": {
    "name": "ipython",
    "version": 3
   },
   "file_extension": ".py",
   "mimetype": "text/x-python",
   "name": "python",
   "nbconvert_exporter": "python",
   "pygments_lexer": "ipython3",
   "version": "3.7.1"
  }
 },
 "nbformat": 4,
 "nbformat_minor": 2
}
