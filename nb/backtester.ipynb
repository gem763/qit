{
 "cells": [
  {
   "cell_type": "code",
   "execution_count": 1,
   "metadata": {},
   "outputs": [],
   "source": [
    "import numpy as np\n",
    "import pandas as pd\n",
    "from IPython.core.debugger import set_trace\n",
    "from tqdm import tqdm_notebook\n",
    "%matplotlib inline"
   ]
  },
  {
   "cell_type": "markdown",
   "metadata": {},
   "source": [
    "# DB 만들기"
   ]
  },
  {
   "cell_type": "code",
   "execution_count": 2,
   "metadata": {},
   "outputs": [],
   "source": [
    "pd.read_excel('quantking.xlsx', sheet_name='x').to_excel('quantking_x.xlsx', sheet_name='data')"
   ]
  },
  {
   "cell_type": "code",
   "execution_count": 97,
   "metadata": {},
   "outputs": [],
   "source": [
    "fin = pd.read_excel('quantking_db.xlsx', sheet_name='fin', index_col=[0], header=[0,1])\n",
    "mc = pd.read_excel('quantking_db.xlsx', sheet_name='mc', index_col=[0], header=[0])\n",
    "info = pd.read_excel('quantking_db.xlsx', sheet_name='info', index_col=[0])"
   ]
  },
  {
   "cell_type": "code",
   "execution_count": 99,
   "metadata": {},
   "outputs": [],
   "source": [
    "fin = fin.stack()\n",
    "mc = mc.T"
   ]
  },
  {
   "cell_type": "code",
   "execution_count": 105,
   "metadata": {},
   "outputs": [],
   "source": [
    "fin.to_pickle('fin.pkl')\n",
    "mc.to_pickle('mc.pkl')\n",
    "info.to_pickle('info.pkl')"
   ]
  },
  {
   "cell_type": "code",
   "execution_count": 76,
   "metadata": {},
   "outputs": [],
   "source": [
    "fin.to_excel('fin.xlsx', sheet_name='fin')\n",
    "mc.to_excel('mc.xlsx', sheet_name='mc')"
   ]
  },
  {
   "cell_type": "code",
   "execution_count": 4,
   "metadata": {},
   "outputs": [],
   "source": [
    "fin = pd.read_pickle('fin.pkl')\n",
    "mc = pd.read_pickle('mc.pkl')\n",
    "info = pd.read_pickle('info.pkl')"
   ]
  },
  {
   "cell_type": "code",
   "execution_count": null,
   "metadata": {},
   "outputs": [],
   "source": []
  },
  {
   "cell_type": "markdown",
   "metadata": {},
   "source": [
    "# 전략 만들기"
   ]
  },
  {
   "cell_type": "code",
   "execution_count": 2,
   "metadata": {},
   "outputs": [],
   "source": [
    "def get_fisyear(date):\n",
    "    if type(date)==str:\n",
    "        date = pd.Timestamp(date)\n",
    "    \n",
    "    if date.month >= 6:\n",
    "        return date.year - 1\n",
    "    \n",
    "    else:\n",
    "        return date.year - 2\n",
    "    \n",
    "    \n",
    "def 매출상위10(date, fin=None, mc=None, n=10):\n",
    "    fisyear = get_fisyear(date)\n",
    "    position = fin['매출액'].xs(fisyear, level=1).nlargest(n)\n",
    "    position[:] = 1/len(position)\n",
    "    return position\n",
    "\n",
    "\n",
    "def 매출상위10다시(date, fin=None, mc=None, n=10):\n",
    "    fisyear = get_fisyear(date)\n",
    "    univ = mc.columns[mc.loc[date]>0]\n",
    "    position = fin['매출액'].xs(fisyear, level=1).loc[univ].nlargest(n)\n",
    "    position[:] = 1/len(position)\n",
    "    return position\n",
    "\n",
    "def BM(date, fin=None, mc=None, n=200):\n",
    "    position = mc.loc[date].nlargest(n)\n",
    "    position /= position.sum()\n",
    "    return position"
   ]
  },
  {
   "cell_type": "code",
   "execution_count": 5,
   "metadata": {
    "collapsed": true
   },
   "outputs": [
    {
     "data": {
      "text/plain": [
       "A005930    0.1\n",
       "A005380    0.1\n",
       "A034730    0.1\n",
       "A066570    0.1\n",
       "A005490    0.1\n",
       "A015760    0.1\n",
       "A000270    0.1\n",
       "A000880    0.1\n",
       "A096770    0.1\n",
       "A012330    0.1\n",
       "Name: 매출액, dtype: float64"
      ]
     },
     "execution_count": 5,
     "metadata": {},
     "output_type": "execute_result"
    }
   ],
   "source": [
    "매출상위10('2019-03-31', fin=fin, mc=mc)"
   ]
  },
  {
   "cell_type": "code",
   "execution_count": 50,
   "metadata": {
    "collapsed": true
   },
   "outputs": [
    {
     "data": {
      "text/plain": [
       "A005930    0.1\n",
       "A005380    0.1\n",
       "A034730    0.1\n",
       "A066570    0.1\n",
       "A005490    0.1\n",
       "A015760    0.1\n",
       "A000270    0.1\n",
       "A000880    0.1\n",
       "A096770    0.1\n",
       "A012330    0.1\n",
       "Name: 매출액, dtype: float64"
      ]
     },
     "execution_count": 50,
     "metadata": {},
     "output_type": "execute_result"
    }
   ],
   "source": [
    "매출상위10다시('2019-03-31', fin=fin, mc=mc)"
   ]
  },
  {
   "cell_type": "markdown",
   "metadata": {},
   "source": [
    "# 백테스트"
   ]
  },
  {
   "cell_type": "code",
   "execution_count": 53,
   "metadata": {
    "scrolled": true
   },
   "outputs": [],
   "source": [
    "dates = mc.index[8:]\n",
    "pos = {}\n",
    "nav = {}\n",
    "pos_bm = {}\n",
    "nav_bm = {}\n",
    "n = 100\n",
    "\n",
    "for i,date in enumerate(dates):\n",
    "    pos[date] = 매출상위10다시(date, fin=fin, mc=mc, n=n)\n",
    "    pos_bm[date] = BM(date, fin=fin, mc=mc)\n",
    "    \n",
    "    if i==0:\n",
    "        nav[date] = 1\n",
    "        nav_bm[date] = 1\n",
    "    \n",
    "    else:\n",
    "        date_prev = dates[i-1]\n",
    "        nav[date] = evaluate(nav, pos, date_prev, date, mc)\n",
    "        nav_bm[date] = evaluate(nav_bm, pos_bm, date_prev, date, mc)"
   ]
  },
  {
   "cell_type": "code",
   "execution_count": 24,
   "metadata": {},
   "outputs": [],
   "source": [
    "def evaluate(nav, pos, date_prev, date, mc):\n",
    "    nav_prev = nav[date_prev]\n",
    "    pos_prev = pos[date_prev]\n",
    "    assets_prev = pos_prev.index\n",
    "    pos_update = mc.loc[date, assets_prev] / mc.loc[date_prev, assets_prev] * pos_prev\n",
    "    return nav_prev * pos_update.sum()"
   ]
  },
  {
   "cell_type": "code",
   "execution_count": 54,
   "metadata": {},
   "outputs": [
    {
     "data": {
      "text/plain": [
       "<matplotlib.axes._subplots.AxesSubplot at 0xba68668>"
      ]
     },
     "execution_count": 54,
     "metadata": {},
     "output_type": "execute_result"
    },
    {
     "data": {
      "image/png": "[encoded data removed]",
      "text/plain": [
       "<Figure size 432x288 with 1 Axes>"
      ]
     },
     "metadata": {
      "needs_background": "light"
     },
     "output_type": "display_data"
    }
   ],
   "source": [
    "pd.DataFrame({'Strategy':nav, 'BM':nav_bm}).plot()"
   ]
  },
  {
   "cell_type": "code",
   "execution_count": null,
   "metadata": {},
   "outputs": [],
   "source": []
  },
  {
   "cell_type": "code",
   "execution_count": 10,
   "metadata": {},
   "outputs": [],
   "source": [
    "class Backtest:\n",
    "    def __init__(self, model=None, bm=None, fin=None, mc=None, info=None, n=10):\n",
    "        self.model = model\n",
    "        self.bm = bm\n",
    "        self.fin = fin\n",
    "        self.mc = mc\n",
    "        self.info = info\n",
    "        self.n = n\n",
    "\n",
    "    def run(self): \n",
    "        dates = self.mc.index[8:]\n",
    "        pos = {}\n",
    "        nav = {}\n",
    "        pos_bm = {}\n",
    "        nav_bm = {}\n",
    "\n",
    "        for i,date in enumerate(tqdm_notebook(dates)):\n",
    "            pos[date] = self.model(date, fin=self.fin, mc=self.mc, n=self.n)\n",
    "            pos_bm[date] = self.bm(date, fin=self.fin, mc=self.mc)\n",
    "\n",
    "            if i==0:\n",
    "                nav[date] = 1\n",
    "                nav_bm[date] = 1\n",
    "\n",
    "            else:\n",
    "                date_prev = dates[i-1]\n",
    "                nav[date] = self.evaluate(nav, pos, date_prev, date)\n",
    "                nav_bm[date] = self.evaluate(nav_bm, pos_bm, date_prev, date)\n",
    "\n",
    "        self.nav = nav\n",
    "        self.pos = pos\n",
    "        self.nav_bm = nav_bm\n",
    "        self.pos_bm = pos_bm\n",
    "\n",
    "\n",
    "    def evaluate(self, nav, pos, date_prev, date):\n",
    "        nav_prev = nav[date_prev]\n",
    "        pos_prev = pos[date_prev]\n",
    "        assets_prev = pos_prev.index\n",
    "        pos_update = self.mc.loc[date, assets_prev] / self.mc.loc[date_prev, assets_prev] * pos_prev\n",
    "        return nav_prev * pos_update.sum()\n",
    "\n",
    "    def navs(self):\n",
    "        return pd.DataFrame({'Model':self.nav, 'BM':self.nav_bm})\n",
    "\n",
    "    def plot_perf(self):\n",
    "        self.navs().plot()\n",
    "\n",
    "    def stats(self):\n",
    "        _navs = self.navs()\n",
    "        days_all = (_navs.index[-1]-_navs.index[0]).days\n",
    "        ann_rtn = (_navs.iloc[-1]**(365/days_all))-1\n",
    "        vol = _navs.pct_change().std() * 4**0.5\n",
    "        return pd.DataFrame({'Annual return':ann_rtn, 'Volatility':vol, 'Sharpe':ann_rtn/vol})\n",
    "\n",
    "    def position(self, date=None, what='model'):\n",
    "        if what=='model':\n",
    "            pos = self.pos\n",
    "        elif what=='bm':\n",
    "            pos = self.pos_bm\n",
    "\n",
    "        if date is None:\n",
    "            return pd.DataFrame(pos).T\n",
    "        else:\n",
    "            return pos[pd.Timestamp(date)]"
   ]
  },
  {
   "cell_type": "code",
   "execution_count": null,
   "metadata": {},
   "outputs": [],
   "source": []
  },
  {
   "cell_type": "code",
   "execution_count": 7,
   "metadata": {},
   "outputs": [],
   "source": [
    "def 시총상위PB저평가(date, fin=None, mc=None, n=10):\n",
    "    fisyear = get_fisyear(date)\n",
    "    marketcap = mc.loc[date].nlargest(100)\n",
    "    univ = marketcap.index\n",
    "    bv = fin['자본총계'].xs(fisyear, level=1).loc[univ]\n",
    "    bp = bv / marketcap\n",
    "    position = bp.nlargest(n)\n",
    "    position[:] = 1/len(position)\n",
    "    return position"
   ]
  },
  {
   "cell_type": "code",
   "execution_count": 11,
   "metadata": {},
   "outputs": [
    {
     "data": {
      "application/vnd.jupyter.widget-view+json": {
       "model_id": "9e1827ef10ea49ad890c808779c37db6",
       "version_major": 2,
       "version_minor": 0
      },
      "text/plain": [
       "HBox(children=(IntProgress(value=0, max=32), HTML(value='')))"
      ]
     },
     "metadata": {},
     "output_type": "display_data"
    },
    {
     "name": "stdout",
     "output_type": "stream",
     "text": [
      "\n"
     ]
    },
    {
     "data": {
      "image/png": "[encoded data removed]",
      "text/plain": [
       "<Figure size 432x288 with 1 Axes>"
      ]
     },
     "metadata": {
      "needs_background": "light"
     },
     "output_type": "display_data"
    }
   ],
   "source": [
    "bt = Backtest(model=시총상위PB저평가, bm=BM, fin=fin, mc=mc, n=10)\n",
    "bt.run()\n",
    "bt.plot_perf()"
   ]
  },
  {
   "cell_type": "code",
   "execution_count": 12,
   "metadata": {
    "collapsed": true
   },
   "outputs": [
    {
     "data": {
      "text/html": [
       "<div>\n",
       "<style scoped>\n",
       "    .dataframe tbody tr th:only-of-type {\n",
       "        vertical-align: middle;\n",
       "    }\n",
       "\n",
       "    .dataframe tbody tr th {\n",
       "        vertical-align: top;\n",
       "    }\n",
       "\n",
       "    .dataframe thead th {\n",
       "        text-align: right;\n",
       "    }\n",
       "</style>\n",
       "<table border=\"1\" class=\"dataframe\">\n",
       "  <thead>\n",
       "    <tr style=\"text-align: right;\">\n",
       "      <th></th>\n",
       "      <th>Annual return</th>\n",
       "      <th>Volatility</th>\n",
       "      <th>Sharpe</th>\n",
       "    </tr>\n",
       "  </thead>\n",
       "  <tbody>\n",
       "    <tr>\n",
       "      <th>Model</th>\n",
       "      <td>0.056093</td>\n",
       "      <td>0.162795</td>\n",
       "      <td>0.344563</td>\n",
       "    </tr>\n",
       "    <tr>\n",
       "      <th>BM</th>\n",
       "      <td>0.008227</td>\n",
       "      <td>0.121585</td>\n",
       "      <td>0.067661</td>\n",
       "    </tr>\n",
       "  </tbody>\n",
       "</table>\n",
       "</div>"
      ],
      "text/plain": [
       "       Annual return  Volatility    Sharpe\n",
       "Model       0.056093    0.162795  0.344563\n",
       "BM          0.008227    0.121585  0.067661"
      ]
     },
     "execution_count": 12,
     "metadata": {},
     "output_type": "execute_result"
    }
   ],
   "source": [
    "bt.stats()"
   ]
  },
  {
   "cell_type": "code",
   "execution_count": 94,
   "metadata": {
    "collapsed": true
   },
   "outputs": [
    {
     "data": {
      "text/plain": [
       "A015760    0.1\n",
       "A001040    0.1\n",
       "A088350    0.1\n",
       "A005380    0.1\n",
       "A004020    0.1\n",
       "A023530    0.1\n",
       "A034730    0.1\n",
       "A024110    0.1\n",
       "A086790    0.1\n",
       "A034220    0.1\n",
       "dtype: float64"
      ]
     },
     "execution_count": 94,
     "metadata": {},
     "output_type": "execute_result"
    }
   ],
   "source": [
    "bt.position(date='2019-03-31')"
   ]
  },
  {
   "cell_type": "code",
   "execution_count": null,
   "metadata": {},
   "outputs": [],
   "source": []
  },
  {
   "cell_type": "code",
   "execution_count": 62,
   "metadata": {},
   "outputs": [],
   "source": [
    "def 슈퍼밸류(date, fin=None, mc=None, n=10):\n",
    "    fisyear = get_fisyear(date)\n",
    "    marketcap = mc.loc[date].nlargest(100)\n",
    "    univ = marketcap.index\n",
    "    _ni = fin['순익(단순)'].xs(fisyear, level=1)>0\n",
    "    _bv = fin['자본총계'].xs(fisyear, level=1)>0\n",
    "    _ocf = fin['영활현흐'].xs(fisyear, level=1)>0\n",
    "    _ebitda = fin['EBITDA'].xs(fisyear, level=1)>0\n",
    "    _dvd = fin['DPS'].xs(fisyear, level=1)>0\n",
    "    screen = (_ni & _bv & _ocf & _ebitda & _dvd).loc[univ]\n",
    "    univ = screen.index[screen]\n",
    "    marketcap = marketcap.loc[univ]\n",
    "    ni = fin['순익(단순)'].xs(fisyear, level=1).loc[univ]\n",
    "    bv = fin['자본총계'].xs(fisyear, level=1).loc[univ]\n",
    "    ocf = fin['영활현흐'].xs(fisyear, level=1).loc[univ]\n",
    "    sales = fin['매출액'].xs(fisyear, level=1).loc[univ]\n",
    "    ebitda = fin['EBITDA'].xs(fisyear, level=1).loc[univ]\n",
    "    ev = fin['EV'].xs(fisyear, level=1).loc[univ]\n",
    "\n",
    "    r_per = (ni/marketcap).rank()\n",
    "    r_pbr = (bv/marketcap).rank()\n",
    "    r_pcr = (ocf/marketcap).rank()\n",
    "    r_psr = (sales/marketcap).rank()\n",
    "    r_ee = (ebitda/ev).rank()\n",
    "\n",
    "    r_total = r_per + r_pbr + r_pcr + r_psr + r_ee\n",
    "    position = r_total.nlargest(n)\n",
    "    position[:] = 1/len(position)\n",
    "    \n",
    "    return position"
   ]
  },
  {
   "cell_type": "code",
   "execution_count": 63,
   "metadata": {
    "scrolled": true
   },
   "outputs": [
    {
     "data": {
      "application/vnd.jupyter.widget-view+json": {
       "model_id": "ba6072661b4242ddaea5d04eb789a141",
       "version_major": 2,
       "version_minor": 0
      },
      "text/plain": [
       "HBox(children=(IntProgress(value=0, max=32), HTML(value='')))"
      ]
     },
     "metadata": {},
     "output_type": "display_data"
    },
    {
     "name": "stdout",
     "output_type": "stream",
     "text": [
      "\n"
     ]
    },
    {
     "data": {
      "image/png": "[encoded data removed]",
      "text/plain": [
       "<Figure size 432x288 with 1 Axes>"
      ]
     },
     "metadata": {
      "needs_background": "light"
     },
     "output_type": "display_data"
    }
   ],
   "source": [
    "bt = Backtest(model=슈퍼밸류, bm=BM, fin=fin, mc=mc, n=10)\n",
    "bt.run()\n",
    "bt.plot_perf()"
   ]
  },
  {
   "cell_type": "code",
   "execution_count": null,
   "metadata": {},
   "outputs": [],
   "source": []
  }
 ],
 "metadata": {
  "kernelspec": {
   "display_name": "Python 3",
   "language": "python",
   "name": "python3"
  },
  "language_info": {
   "codemirror_mode": {
    "name": "ipython",
    "version": 3
   },
   "file_extension": ".py",
   "mimetype": "text/x-python",
   "name": "python",
   "nbconvert_exporter": "python",
   "pygments_lexer": "ipython3",
   "version": "3.7.1"
  }
 },
 "nbformat": 4,
 "nbformat_minor": 2
}
