{
 "cells": [
  {
   "cell_type": "code",
   "execution_count": 1,
   "metadata": {},
   "outputs": [],
   "source": [
    "import pandas as pd"
   ]
  },
  {
   "cell_type": "code",
   "execution_count": 2,
   "metadata": {},
   "outputs": [],
   "source": [
    "fin = pd.read_pickle('fin.pkl')\n",
    "mc = pd.read_pickle('mc.pkl')\n",
    "info = pd.read_pickle('info.pkl')"
   ]
  },
  {
   "cell_type": "markdown",
   "metadata": {},
   "source": [
    "# 전략\n",
    "\n",
    "* input = 날짜\n",
    "* output = 종목별 투자비중"
   ]
  },
  {
   "cell_type": "code",
   "execution_count": 136,
   "metadata": {},
   "outputs": [
    {
     "data": {
      "text/plain": [
       "A005930    0.1\n",
       "A005380    0.1\n",
       "A034730    0.1\n",
       "A066570    0.1\n",
       "A005490    0.1\n",
       "A015760    0.1\n",
       "A000270    0.1\n",
       "A000880    0.1\n",
       "A096770    0.1\n",
       "A012330    0.1\n",
       "Name: 매출액, dtype: float64"
      ]
     },
     "execution_count": 136,
     "metadata": {},
     "output_type": "execute_result"
    }
   ],
   "source": [
    "date = '2018-12-31' # input\n",
    "fisyear = 2017\n",
    "position = fin['매출액'].xs(fisyear, level=1).nlargest(10)\n",
    "position[:] = 1/len(position); position # output; [:] 빼면 될까 안될까"
   ]
  },
  {
   "cell_type": "markdown",
   "metadata": {},
   "source": [
    "### date → fisyear"
   ]
  },
  {
   "cell_type": "code",
   "execution_count": 41,
   "metadata": {},
   "outputs": [],
   "source": [
    "date = pd.Timestamp(date)\n",
    "if date.month >=6: \n",
    "    fisyear = date.year - 1\n",
    "else:\n",
    "    fisyear = date.year - 2"
   ]
  },
  {
   "cell_type": "code",
   "execution_count": 3,
   "metadata": {},
   "outputs": [],
   "source": [
    "def get_fisyear(date):\n",
    "    date = pd.Timestamp(date)\n",
    "    \n",
    "    if date.month >=6: \n",
    "        return date.year - 1\n",
    "    else:\n",
    "        return date.year - 2"
   ]
  },
  {
   "cell_type": "code",
   "execution_count": 4,
   "metadata": {},
   "outputs": [],
   "source": [
    "def 매출상위(date, fin, n=10):\n",
    "    fisyear = get_fisyear(date)\n",
    "    position = fin['매출액'].xs(fisyear, level=1).nlargest(n)\n",
    "    position[:] = 1/len(position)\n",
    "    return position"
   ]
  },
  {
   "cell_type": "code",
   "execution_count": null,
   "metadata": {},
   "outputs": [],
   "source": []
  },
  {
   "cell_type": "markdown",
   "metadata": {},
   "source": [
    "# 벡테스터\n",
    "매 리밸런싱 마다 포지션을 잡고, 주기적으로 포지션 가치를 계산하면 된다"
   ]
  },
  {
   "cell_type": "code",
   "execution_count": 55,
   "metadata": {},
   "outputs": [],
   "source": [
    "dates = mc.index[8:]"
   ]
  },
  {
   "cell_type": "code",
   "execution_count": 143,
   "metadata": {},
   "outputs": [],
   "source": [
    "for date in dates:\n",
    "#     print(date)\n",
    "    pass"
   ]
  },
  {
   "cell_type": "code",
   "execution_count": 71,
   "metadata": {
    "scrolled": true
   },
   "outputs": [],
   "source": [
    "pos = {}\n",
    "nav = {}\n",
    "for date in dates:\n",
    "    pos[date] = 매출상위(date, fin)\n",
    "    # nav[date] = 내 계좌의 가치기록, HOW?"
   ]
  },
  {
   "cell_type": "markdown",
   "metadata": {},
   "source": [
    "### 내 계좌의 가치(NAV) 계산은 어떻게?\n",
    "* 전 리밸일 기준 포지션 전체가치 = nav_prev (given)\n",
    "* 전 리밸일 포지션별 = pos_prev (given)\n",
    "* 전 리밸일 포지션별 가치 = nav_prev * pos_prev\n",
    "* 전 리밸일 이후 포지션 가치변화 = 현재시총 / 전 리밸일 시총\n",
    "* 전 리밸일 포지션의 현재가치 = nav_prev * pos_prev * 현재시총 / 전 리밸일 시총\n",
    "* 현재 리밸일 기준 포지션 전체가치 = sum(전 리밸일 포지션의 현재가치)"
   ]
  },
  {
   "cell_type": "code",
   "execution_count": 73,
   "metadata": {
    "scrolled": true
   },
   "outputs": [
    {
     "ename": "KeyError",
     "evalue": "Timestamp('2019-03-31 00:00:00')",
     "output_type": "error",
     "traceback": [
      "\u001b[1;31m---------------------------------------------------------------------------\u001b[0m",
      "\u001b[1;31mKeyError\u001b[0m                                  Traceback (most recent call last)",
      "\u001b[1;32m<ipython-input-73-c66c70adcc2a>\u001b[0m in \u001b[0;36m<module>\u001b[1;34m\u001b[0m\n\u001b[0;32m      5\u001b[0m \u001b[1;33m\u001b[0m\u001b[0m\n\u001b[0;32m      6\u001b[0m     \u001b[0mdate_prev\u001b[0m \u001b[1;33m=\u001b[0m \u001b[0mdates\u001b[0m\u001b[1;33m[\u001b[0m\u001b[0mi\u001b[0m\u001b[1;33m-\u001b[0m\u001b[1;36m1\u001b[0m\u001b[1;33m]\u001b[0m\u001b[1;33m\u001b[0m\u001b[1;33m\u001b[0m\u001b[0m\n\u001b[1;32m----> 7\u001b[1;33m     \u001b[0mnav_prev\u001b[0m \u001b[1;33m=\u001b[0m \u001b[0mnav\u001b[0m\u001b[1;33m[\u001b[0m\u001b[0mdate_prev\u001b[0m\u001b[1;33m]\u001b[0m\u001b[1;33m\u001b[0m\u001b[1;33m\u001b[0m\u001b[0m\n\u001b[0m\u001b[0;32m      8\u001b[0m     \u001b[0mpos_prev\u001b[0m \u001b[1;33m=\u001b[0m \u001b[0mpos\u001b[0m\u001b[1;33m[\u001b[0m\u001b[0mdate_prev\u001b[0m\u001b[1;33m]\u001b[0m\u001b[1;33m\u001b[0m\u001b[1;33m\u001b[0m\u001b[0m\n\u001b[0;32m      9\u001b[0m     \u001b[0massets_prev\u001b[0m \u001b[1;33m=\u001b[0m \u001b[0mpos_prev\u001b[0m\u001b[1;33m.\u001b[0m\u001b[0mindex\u001b[0m\u001b[1;33m\u001b[0m\u001b[1;33m\u001b[0m\u001b[0m\n",
      "\u001b[1;31mKeyError\u001b[0m: Timestamp('2019-03-31 00:00:00')"
     ]
    }
   ],
   "source": [
    "pos = {}\n",
    "nav = {}\n",
    "for i, date in enumerate(dates):\n",
    "    pos[date] = 매출상위(date, fin)\n",
    "    \n",
    "    date_prev = dates[i-1]\n",
    "    nav_prev = nav[date_prev]\n",
    "    pos_prev = pos[date_prev]\n",
    "    assets_prev = pos_prev.index\n",
    "    mc_chg = mc.loc[date, assets_prev] / mc.loc[date_prev, assets_prev]\n",
    "    nav_pos_prev = nav_prev * pos_prev * mc_chg\n",
    "    nav[date] = nav_pos_prev.sum()"
   ]
  },
  {
   "cell_type": "code",
   "execution_count": 75,
   "metadata": {},
   "outputs": [],
   "source": [
    "pos = {}\n",
    "nav = {}\n",
    "for i, date in enumerate(dates):\n",
    "    pos[date] = 매출상위(date, fin)\n",
    "    \n",
    "    if i==0:\n",
    "        nav[date] = 1\n",
    "        \n",
    "    else:\n",
    "        date_prev = dates[i-1]\n",
    "        nav_prev = nav[date_prev]\n",
    "        pos_prev = pos[date_prev]\n",
    "        assets_prev = pos_prev.index\n",
    "        mc_chg = mc.loc[date, assets_prev] / mc.loc[date_prev, assets_prev]\n",
    "        nav_pos_prev = nav_prev * pos_prev * mc_chg\n",
    "        nav[date] = nav_pos_prev.sum()"
   ]
  },
  {
   "cell_type": "code",
   "execution_count": 144,
   "metadata": {},
   "outputs": [],
   "source": [
    "nav;"
   ]
  },
  {
   "cell_type": "code",
   "execution_count": 84,
   "metadata": {},
   "outputs": [],
   "source": [
    "from IPython.core.debugger import set_trace"
   ]
  },
  {
   "cell_type": "code",
   "execution_count": 87,
   "metadata": {
    "scrolled": true
   },
   "outputs": [],
   "source": [
    "pos = {}\n",
    "nav = {}\n",
    "\n",
    "def 내계좌는얼마(nav, pos, date, date_prev, mc):\n",
    "    nav_prev = nav[date_prev]\n",
    "    pos_prev = pos[date_prev]\n",
    "    assets_prev = pos_prev.index\n",
    "    mc_chg = mc.loc[date, assets_prev] / mc.loc[date_prev, assets_prev]\n",
    "    nav_pos_prev = nav_prev * pos_prev * mc_chg\n",
    "    return nav_pos_prev.sum()\n",
    "\n",
    "for i, date in enumerate(dates):\n",
    "#     set_trace()\n",
    "    pos[date] = 매출상위(date, fin)\n",
    "    \n",
    "    if i==0:\n",
    "        nav[date] = 1\n",
    "        \n",
    "    else:\n",
    "        date_prev = dates[i-1]\n",
    "        nav[date] = 내계좌는얼마(nav, pos, date, date_prev, mc)"
   ]
  },
  {
   "cell_type": "code",
   "execution_count": 90,
   "metadata": {},
   "outputs": [
    {
     "data": {
      "text/plain": [
       "<matplotlib.axes._subplots.AxesSubplot at 0xa8af898>"
      ]
     },
     "execution_count": 90,
     "metadata": {},
     "output_type": "execute_result"
    },
    {
     "data": {
      "image/png": "[encoded data removed]",
      "text/plain": [
       "<Figure size 432x288 with 1 Axes>"
      ]
     },
     "metadata": {
      "needs_background": "light"
     },
     "output_type": "display_data"
    }
   ],
   "source": [
    "pd.DataFrame({'Model':nav}).plot()"
   ]
  },
  {
   "cell_type": "markdown",
   "metadata": {},
   "source": [
    "### BM 전략도 만들어보자\n",
    "시총상위 200개 종목을 시총가중"
   ]
  },
  {
   "cell_type": "code",
   "execution_count": 145,
   "metadata": {},
   "outputs": [],
   "source": [
    "position = mc.loc[date].nlargest(200)\n",
    "position / position.sum();"
   ]
  },
  {
   "cell_type": "code",
   "execution_count": 5,
   "metadata": {},
   "outputs": [],
   "source": [
    "def BM(date, fin=None, mc=None, n=200):\n",
    "    position = mc.loc[date].nlargest(n)\n",
    "    position = position / position.sum()\n",
    "    return position\n",
    "\n",
    "def 매출상위(date, fin=None, mc=None, n=10):\n",
    "    fisyear = get_fisyear(date)\n",
    "    position = fin['매출액'].xs(fisyear, level=1).nlargest(n)\n",
    "    position[:] = 1/len(position)\n",
    "    return position"
   ]
  },
  {
   "cell_type": "code",
   "execution_count": 95,
   "metadata": {},
   "outputs": [],
   "source": [
    "BM('2018-12-31', mc=mc);"
   ]
  },
  {
   "cell_type": "code",
   "execution_count": 125,
   "metadata": {},
   "outputs": [],
   "source": [
    "pos = {}\n",
    "nav = {}\n",
    "pos_bm = {}\n",
    "nav_bm = {}\n",
    "n = 10\n",
    "\n",
    "for i, date in enumerate(dates):\n",
    "    pos[date] = 매출상위(date, fin=fin, mc=mc, n=n)\n",
    "    pos_bm[date] = BM(date, fin=fin, mc=mc)\n",
    "    \n",
    "    if i==0:\n",
    "        nav[date] = 1\n",
    "        nav_bm[date] = 1\n",
    "        \n",
    "    else:\n",
    "        date_prev = dates[i-1]\n",
    "        nav[date] = 내계좌는얼마(nav, pos, date, date_prev, mc)\n",
    "        nav_bm[date] = 내계좌는얼마(nav_bm, pos_bm, date, date_prev, mc)"
   ]
  },
  {
   "cell_type": "code",
   "execution_count": 99,
   "metadata": {},
   "outputs": [
    {
     "data": {
      "text/plain": [
       "<matplotlib.axes._subplots.AxesSubplot at 0xbabc240>"
      ]
     },
     "execution_count": 99,
     "metadata": {},
     "output_type": "execute_result"
    },
    {
     "data": {
      "image/png": "[encoded data removed]",
      "text/plain": [
       "<Figure size 432x288 with 1 Axes>"
      ]
     },
     "metadata": {
      "needs_background": "light"
     },
     "output_type": "display_data"
    }
   ],
   "source": [
    "pd.DataFrame({'Model':nav, 'BM':nav_bm}).plot()"
   ]
  },
  {
   "cell_type": "code",
   "execution_count": null,
   "metadata": {},
   "outputs": [],
   "source": []
  },
  {
   "cell_type": "code",
   "execution_count": null,
   "metadata": {},
   "outputs": [],
   "source": []
  },
  {
   "cell_type": "markdown",
   "metadata": {},
   "source": [
    "# 좀더 고급진 백테스터\n",
    "\n",
    "* 전략 = 설계도\n",
    "* 벡테스터 = Backtest(어떤전략, BM, DB, 기타옵션들...)\n",
    "* 백테스터.run()\n",
    "* 백테스터.plot() ..."
   ]
  },
  {
   "cell_type": "code",
   "execution_count": 100,
   "metadata": {},
   "outputs": [],
   "source": [
    "class Backtest:\n",
    "    def __init__(self, model=None, bm=None, fin=None, mc=None, n=10):\n",
    "        self.model = model\n",
    "        self.bm = bm\n",
    "        self.fin = fin\n",
    "        self.mc = mc\n",
    "        self.n = n"
   ]
  },
  {
   "cell_type": "code",
   "execution_count": 102,
   "metadata": {},
   "outputs": [],
   "source": [
    "bt = Backtest(model=매출상위, bm=BM, fin=fin, mc=mc, n=10)"
   ]
  },
  {
   "cell_type": "code",
   "execution_count": 103,
   "metadata": {},
   "outputs": [
    {
     "data": {
      "text/plain": [
       "<function __main__.BM(date, fin=None, mc=None, n=200)>"
      ]
     },
     "execution_count": 103,
     "metadata": {},
     "output_type": "execute_result"
    }
   ],
   "source": [
    "bt.bm"
   ]
  },
  {
   "cell_type": "code",
   "execution_count": 137,
   "metadata": {},
   "outputs": [
    {
     "data": {
      "text/plain": [
       "'def BM(date, fin=None, mc=None, n=200):\\n    position = mc.loc[date].nlargest(n)\\n    position = position / position.sum()\\n    return position\\n'"
      ]
     },
     "execution_count": 137,
     "metadata": {},
     "output_type": "execute_result"
    }
   ],
   "source": [
    "import inspect\n",
    "inspect.getsource(bt.bm)"
   ]
  },
  {
   "cell_type": "code",
   "execution_count": 12,
   "metadata": {},
   "outputs": [],
   "source": [
    "class Backtest:\n",
    "    def __init__(self, model=None, bm=None, fin=None, mc=None, n=10):\n",
    "        self.model = model\n",
    "        self.bm = bm\n",
    "        self.fin = fin\n",
    "        self.mc = mc\n",
    "        self.n = n\n",
    "        \n",
    "    # fin, mc, n, 내계좌는 얼마.를 self. 로\n",
    "    # pos, nav, pos_bm, nav_bm를 self 저장\n",
    "    def run(self):\n",
    "        dates = mc.index[8:]\n",
    "        pos = {}\n",
    "        nav = {}\n",
    "        pos_bm = {}\n",
    "        nav_bm = {}\n",
    "\n",
    "        for i, date in enumerate(tqdm_notebook(dates)):\n",
    "            pos[date] = self.model(date, fin=self.fin, mc=self.mc, n=self.n)\n",
    "            pos_bm[date] = self.bm(date, fin=self.fin, mc=self.mc)\n",
    "\n",
    "            if i==0:\n",
    "                nav[date] = 1\n",
    "                nav_bm[date] = 1\n",
    "\n",
    "            else:\n",
    "                date_prev = dates[i-1]\n",
    "                nav[date] = self.내계좌는얼마(nav, pos, date, date_prev)\n",
    "                nav_bm[date] = self.내계좌는얼마(nav_bm, pos_bm, date, date_prev)\n",
    "                \n",
    "        self.pos = pos\n",
    "        self.nav = nav\n",
    "        self.pos_bm = pos_bm\n",
    "        self.nav_bm = nav_bm\n",
    "                \n",
    "                \n",
    "    # mc를 self.mc로\n",
    "    def 내계좌는얼마(self, nav, pos, date, date_prev):\n",
    "        nav_prev = nav[date_prev]\n",
    "        pos_prev = pos[date_prev]\n",
    "        assets_prev = pos_prev.index\n",
    "        mc_chg = self.mc.loc[date, assets_prev] / self.mc.loc[date_prev, assets_prev]\n",
    "        nav_pos_prev = nav_prev * pos_prev * mc_chg\n",
    "        return nav_pos_prev.sum()\n",
    "    \n",
    "    \n",
    "    def navs(self):\n",
    "        return pd.DataFrame({'Model':self.nav, 'BM':self.nav_bm})\n",
    "    \n",
    "    # plot_perf() 추가\n",
    "    def plot_perf(self):\n",
    "        self.navs().plot()\n",
    "        \n",
    "    # 성과평가 추가\n",
    "    def stats(self):\n",
    "        _navs = self.navs()\n",
    "        ndays = (_navs.index[-1]-_navs.index[0]).days\n",
    "        ann_rtn = (_navs.iloc[-1]**(365/ndays)) - 1\n",
    "        vol = _navs.pct_change().std() * (4**0.5)\n",
    "        return pd.DataFrame({\n",
    "            'Annual return': ann_rtn, \n",
    "            'Volatility': vol, \n",
    "            'Sharpe': ann_rtn/vol\n",
    "        })"
   ]
  },
  {
   "cell_type": "markdown",
   "metadata": {},
   "source": [
    "### plot_perf() 추가"
   ]
  },
  {
   "cell_type": "code",
   "execution_count": 13,
   "metadata": {},
   "outputs": [
    {
     "data": {
      "application/vnd.jupyter.widget-view+json": {
       "model_id": "718aac63b2354ff986e3713c873aeb9d",
       "version_major": 2,
       "version_minor": 0
      },
      "text/plain": [
       "HBox(children=(IntProgress(value=0, max=32), HTML(value='')))"
      ]
     },
     "metadata": {},
     "output_type": "display_data"
    },
    {
     "name": "stdout",
     "output_type": "stream",
     "text": [
      "\n"
     ]
    },
    {
     "data": {
      "image/png": "[encoded data removed]",
      "text/plain": [
       "<Figure size 432x288 with 1 Axes>"
      ]
     },
     "metadata": {
      "needs_background": "light"
     },
     "output_type": "display_data"
    }
   ],
   "source": [
    "bt = Backtest(model=매출상위, bm=BM, fin=fin, mc=mc, n=10)\n",
    "bt.run()\n",
    "bt.plot_perf()"
   ]
  },
  {
   "cell_type": "markdown",
   "metadata": {},
   "source": [
    "### tqdm 추가"
   ]
  },
  {
   "cell_type": "code",
   "execution_count": 14,
   "metadata": {},
   "outputs": [],
   "source": [
    "from tqdm import tqdm_notebook"
   ]
  },
  {
   "cell_type": "code",
   "execution_count": 121,
   "metadata": {},
   "outputs": [
    {
     "data": {
      "application/vnd.jupyter.widget-view+json": {
       "model_id": "09bb3e9e1415489a825353d2f82a095e",
       "version_major": 2,
       "version_minor": 0
      },
      "text/plain": [
       "HBox(children=(IntProgress(value=0, max=32), HTML(value='')))"
      ]
     },
     "metadata": {},
     "output_type": "display_data"
    },
    {
     "name": "stdout",
     "output_type": "stream",
     "text": [
      "\n"
     ]
    },
    {
     "data": {
      "image/png": "[encoded data removed]",
      "text/plain": [
       "<Figure size 432x288 with 1 Axes>"
      ]
     },
     "metadata": {
      "needs_background": "light"
     },
     "output_type": "display_data"
    }
   ],
   "source": [
    "bt = Backtest(model=매출상위, bm=BM, fin=fin, mc=mc, n=10)\n",
    "bt.run()\n",
    "bt.plot_perf()"
   ]
  },
  {
   "cell_type": "markdown",
   "metadata": {},
   "source": [
    "### 성과평가\n",
    "* (1+R)^(총연수) = 최종nav\n",
    "* R = (최종nav)^(1/총연수) - 1"
   ]
  },
  {
   "cell_type": "code",
   "execution_count": 124,
   "metadata": {},
   "outputs": [
    {
     "data": {
      "application/vnd.jupyter.widget-view+json": {
       "model_id": "795d0d91636c412cb12c034420b32216",
       "version_major": 2,
       "version_minor": 0
      },
      "text/plain": [
       "HBox(children=(IntProgress(value=0, max=32), HTML(value='')))"
      ]
     },
     "metadata": {},
     "output_type": "display_data"
    },
    {
     "name": "stdout",
     "output_type": "stream",
     "text": [
      "\n"
     ]
    },
    {
     "data": {
      "text/html": [
       "<div>\n",
       "<style scoped>\n",
       "    .dataframe tbody tr th:only-of-type {\n",
       "        vertical-align: middle;\n",
       "    }\n",
       "\n",
       "    .dataframe tbody tr th {\n",
       "        vertical-align: top;\n",
       "    }\n",
       "\n",
       "    .dataframe thead th {\n",
       "        text-align: right;\n",
       "    }\n",
       "</style>\n",
       "<table border=\"1\" class=\"dataframe\">\n",
       "  <thead>\n",
       "    <tr style=\"text-align: right;\">\n",
       "      <th></th>\n",
       "      <th>Annual return</th>\n",
       "      <th>Volatility</th>\n",
       "      <th>Sharpe</th>\n",
       "    </tr>\n",
       "  </thead>\n",
       "  <tbody>\n",
       "    <tr>\n",
       "      <th>Model</th>\n",
       "      <td>-0.006684</td>\n",
       "      <td>0.156904</td>\n",
       "      <td>-0.042602</td>\n",
       "    </tr>\n",
       "    <tr>\n",
       "      <th>BM</th>\n",
       "      <td>0.008227</td>\n",
       "      <td>0.121585</td>\n",
       "      <td>0.067661</td>\n",
       "    </tr>\n",
       "  </tbody>\n",
       "</table>\n",
       "</div>"
      ],
      "text/plain": [
       "       Annual return  Volatility    Sharpe\n",
       "Model      -0.006684    0.156904 -0.042602\n",
       "BM          0.008227    0.121585  0.067661"
      ]
     },
     "execution_count": 124,
     "metadata": {},
     "output_type": "execute_result"
    }
   ],
   "source": [
    "bt = Backtest(model=매출상위, bm=BM, fin=fin, mc=mc, n=10)\n",
    "bt.run()\n",
    "bt.stats()"
   ]
  },
  {
   "cell_type": "code",
   "execution_count": null,
   "metadata": {},
   "outputs": [],
   "source": []
  },
  {
   "cell_type": "markdown",
   "metadata": {},
   "source": [
    "# 새로운 전략 생성"
   ]
  },
  {
   "cell_type": "code",
   "execution_count": 129,
   "metadata": {},
   "outputs": [],
   "source": [
    "def 시총높고PB저평가(date, fin=None, mc=None, n=10):\n",
    "    fisyear = get_fisyear(date)\n",
    "    marketcap = mc.loc[date].nlargest(100)\n",
    "    univ = marketcap.index\n",
    "    bv = fin['자본총계'].xs(fisyear, level=1).loc[univ]\n",
    "    bp = bv / marketcap\n",
    "    position = bp.nlargest(n)\n",
    "    position[:] = 1/len(position)\n",
    "    return position"
   ]
  },
  {
   "cell_type": "code",
   "execution_count": 134,
   "metadata": {},
   "outputs": [
    {
     "data": {
      "application/vnd.jupyter.widget-view+json": {
       "model_id": "055bec5f78a346589408263bdcd64cab",
       "version_major": 2,
       "version_minor": 0
      },
      "text/plain": [
       "HBox(children=(IntProgress(value=0, max=32), HTML(value='')))"
      ]
     },
     "metadata": {},
     "output_type": "display_data"
    },
    {
     "name": "stdout",
     "output_type": "stream",
     "text": [
      "\n"
     ]
    },
    {
     "data": {
      "image/png": "[encoded data removed]",
      "text/plain": [
       "<Figure size 432x288 with 1 Axes>"
      ]
     },
     "metadata": {
      "needs_background": "light"
     },
     "output_type": "display_data"
    }
   ],
   "source": [
    "bt = Backtest(model=시총높고PB저평가, bm=BM, fin=fin, mc=mc, n=10)\n",
    "bt.run()\n",
    "bt.plot_perf()"
   ]
  },
  {
   "cell_type": "code",
   "execution_count": null,
   "metadata": {},
   "outputs": [],
   "source": []
  }
 ],
 "metadata": {
  "kernelspec": {
   "display_name": "Python 3",
   "language": "python",
   "name": "python3"
  },
  "language_info": {
   "codemirror_mode": {
    "name": "ipython",
    "version": 3
   },
   "file_extension": ".py",
   "mimetype": "text/x-python",
   "name": "python",
   "nbconvert_exporter": "python",
   "pygments_lexer": "ipython3",
   "version": "3.7.1"
  }
 },
 "nbformat": 4,
 "nbformat_minor": 2
}
