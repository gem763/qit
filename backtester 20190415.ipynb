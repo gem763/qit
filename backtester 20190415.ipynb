{
 "cells": [
  {
   "cell_type": "code",
   "execution_count": 8,
   "metadata": {},
   "outputs": [],
   "source": [
    "import numpy as np\n",
    "import pandas as pd\n",
    "from IPython.core.debugger import set_trace\n",
    "from tqdm import tqdm_notebook\n",
    "%matplotlib inline"
   ]
  },
  {
   "cell_type": "markdown",
   "metadata": {},
   "source": [
    "# DB 만들기"
   ]
  },
  {
   "cell_type": "code",
   "execution_count": 2,
   "metadata": {},
   "outputs": [],
   "source": [
    "pd.read_excel('quantking.xlsx', sheet_name='x').to_excel('quantking_x.xlsx', sheet_name='data')"
   ]
  },
  {
   "cell_type": "code",
   "execution_count": 2,
   "metadata": {},
   "outputs": [],
   "source": [
    "fin = pd.read_excel('quantking_db.xlsx', sheet_name='fin', index_col=[0], header=[0,1])\n",
    "mc = pd.read_excel('quantking_db.xlsx', sheet_name='mc', index_col=[0], header=[0])"
   ]
  },
  {
   "cell_type": "code",
   "execution_count": 72,
   "metadata": {},
   "outputs": [],
   "source": [
    "fin = fin.stack()\n",
    "mc = mc.T"
   ]
  },
  {
   "cell_type": "code",
   "execution_count": 75,
   "metadata": {},
   "outputs": [],
   "source": [
    "fin.to_pickle('fin.pkl')\n",
    "mc.to_pickle('mc.pkl')"
   ]
  },
  {
   "cell_type": "code",
   "execution_count": 76,
   "metadata": {},
   "outputs": [],
   "source": [
    "fin.to_excel('fin.xlsx', sheet_name='fin')\n",
    "mc.to_excel('mc.xlsx', sheet_name='mc')"
   ]
  },
  {
   "cell_type": "code",
   "execution_count": 3,
   "metadata": {},
   "outputs": [],
   "source": [
    "fin = pd.read_pickle('fin.pkl')\n",
    "mc = pd.read_pickle('mc.pkl')"
   ]
  },
  {
   "cell_type": "code",
   "execution_count": null,
   "metadata": {},
   "outputs": [],
   "source": []
  },
  {
   "cell_type": "markdown",
   "metadata": {},
   "source": [
    "# 전략 만들기"
   ]
  },
  {
   "cell_type": "code",
   "execution_count": 9,
   "metadata": {},
   "outputs": [],
   "source": [
    "def get_year(date):\n",
    "    if type(date)==str:\n",
    "        date = pd.Timestamp(date)\n",
    "        \n",
    "    year = date.year\n",
    "    if date.month < 6:\n",
    "        year -= 1\n",
    "        \n",
    "    return year\n",
    "    \n",
    "    \n",
    "def 매출상위10(date, fin=None, mc=None, n=10):\n",
    "    year = get_year(date)\n",
    "    position = fin['매출액'].xs(year, level=1).nlargest(n)\n",
    "    position[:] = 1/len(position)\n",
    "    return position\n",
    "\n",
    "def BM(date, fin=None, mc=None, n=200):\n",
    "    position = mc.loc[date].nlargest(n)\n",
    "    position[:] /= position.sum()\n",
    "    return position"
   ]
  },
  {
   "cell_type": "code",
   "execution_count": 8,
   "metadata": {
    "collapsed": true
   },
   "outputs": [
    {
     "data": {
      "text/plain": [
       "A005930    0.1\n",
       "A034730    0.1\n",
       "A005380    0.1\n",
       "A005490    0.1\n",
       "A066570    0.1\n",
       "A015760    0.1\n",
       "A096770    0.1\n",
       "A000270    0.1\n",
       "A000880    0.1\n",
       "A000660    0.1\n",
       "Name: 매출액, dtype: float64"
      ]
     },
     "execution_count": 8,
     "metadata": {},
     "output_type": "execute_result"
    }
   ],
   "source": [
    "매출상위10('2019-03-31', fin=fin, mc=mc)"
   ]
  },
  {
   "cell_type": "code",
   "execution_count": 9,
   "metadata": {
    "collapsed": true
   },
   "outputs": [
    {
     "data": {
      "text/plain": [
       "A005930    0.188755\n",
       "A005380    0.033011\n",
       "A000660    0.029724\n",
       "A015760    0.026269\n",
       "A012330    0.021445\n",
       "A017670    0.020180\n",
       "A035420    0.020144\n",
       "A005490    0.018973\n",
       "A018260    0.018887\n",
       "A028260    0.018353\n",
       "A055550    0.017532\n",
       "A032830    0.017212\n",
       "A090430    0.017002\n",
       "A000270    0.016460\n",
       "A105560    0.013469\n",
       "A051910    0.013381\n",
       "A051900    0.011198\n",
       "A000810    0.011138\n",
       "A033780    0.011076\n",
       "A034730    0.010477\n",
       "A002790    0.010160\n",
       "A034220    0.010130\n",
       "A003550    0.009430\n",
       "A006400    0.008855\n",
       "A066570    0.008635\n",
       "A009540    0.008354\n",
       "A004020    0.007875\n",
       "A096770    0.007650\n",
       "A086280    0.007639\n",
       "A086790    0.007388\n",
       "             ...   \n",
       "A004000    0.000967\n",
       "A084990    0.000943\n",
       "A034830    0.000923\n",
       "A069260    0.000921\n",
       "A036490    0.000916\n",
       "A069080    0.000895\n",
       "A056190    0.000893\n",
       "A002270    0.000866\n",
       "A096530    0.000863\n",
       "A003000    0.000825\n",
       "A030530    0.000820\n",
       "A037560    0.000817\n",
       "A093050    0.000816\n",
       "A170900    0.000816\n",
       "A002240    0.000809\n",
       "A089590    0.000804\n",
       "A004700    0.000800\n",
       "A014820    0.000799\n",
       "A122900    0.000784\n",
       "A084690    0.000780\n",
       "A024720    0.000775\n",
       "A022100    0.000763\n",
       "A003670    0.000743\n",
       "A020000    0.000740\n",
       "A900140    0.000728\n",
       "A053210    0.000725\n",
       "A005180    0.000722\n",
       "A000070    0.000714\n",
       "A018670    0.000713\n",
       "A175330    0.000704\n",
       "Name: 2015-03-31 00:00:00, Length: 200, dtype: float64"
      ]
     },
     "execution_count": 9,
     "metadata": {},
     "output_type": "execute_result"
    }
   ],
   "source": [
    "BM('2015-03-31', fin=fin, mc=mc)"
   ]
  },
  {
   "cell_type": "code",
   "execution_count": null,
   "metadata": {},
   "outputs": [],
   "source": []
  },
  {
   "cell_type": "markdown",
   "metadata": {},
   "source": [
    "# 백테스트"
   ]
  },
  {
   "cell_type": "code",
   "execution_count": 12,
   "metadata": {},
   "outputs": [],
   "source": [
    "dates = mc.index[8:]\n",
    "positions = {}\n",
    "nav = {}\n",
    "positions_bm = {}\n",
    "nav_bm = {}\n",
    "\n",
    "for i,date in enumerate(dates):\n",
    "    positions[date] = 매출상위10(date, fin=fin, mc=mc)\n",
    "    positions_bm[date] = BM(date, fin=fin, mc=mc)\n",
    "    \n",
    "    if i==0:\n",
    "        nav[date] = 1\n",
    "        nav_bm[date] = 1\n",
    "    \n",
    "    else:\n",
    "        date_prev = dates[i-1]\n",
    "        nav[date] = get_nav(nav, positions, date_prev, date, mc)\n",
    "        nav_bm[date] = get_nav(nav_bm, positions_bm, date_prev, date, mc)"
   ]
  },
  {
   "cell_type": "code",
<<<<<<< HEAD
   "execution_count": 161,
=======
   "execution_count": 11,
>>>>>>> f8cd6de932bf4f8855d37996ac5f652040013d26
   "metadata": {},
   "outputs": [],
   "source": [
    "def get_nav(nav, positions, date_prev, date, mc):\n",
    "    nav_prev = nav[date_prev]\n",
    "    pos_prev = positions[date_prev]\n",
    "    assets_prev = pos_prev.index\n",
    "    pos_update = mc.loc[date, assets_prev] / mc.loc[date_prev, assets_prev] * pos_prev\n",
    "    return nav_prev * pos_update.sum()"
   ]
  },
  {
   "cell_type": "code",
   "execution_count": 13,
   "metadata": {
    "collapsed": true
   },
   "outputs": [
    {
     "data": {
<<<<<<< HEAD
      "image/png": "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\n",
=======
      "text/plain": [
       "<matplotlib.axes._subplots.AxesSubplot at 0x22bb85340b8>"
      ]
     },
     "execution_count": 13,
     "metadata": {},
     "output_type": "execute_result"
    },
    {
     "data": {
      "image/png": "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\n",
>>>>>>> f8cd6de932bf4f8855d37996ac5f652040013d26
      "text/plain": [
       "<Figure size 432x288 with 1 Axes>"
      ]
     },
     "metadata": {
      "needs_background": "light"
     },
     "output_type": "display_data"
    }
   ],
   "source": [
<<<<<<< HEAD
    "pd.Series(nav).plot();"
=======
    "pd.DataFrame({'Strategy':nav, 'BM':nav_bm}).plot()"
>>>>>>> f8cd6de932bf4f8855d37996ac5f652040013d26
   ]
  },
  {
   "cell_type": "code",
   "execution_count": null,
   "metadata": {},
   "outputs": [],
   "source": []
  },
  {
   "cell_type": "code",
   "execution_count": 20,
   "metadata": {},
   "outputs": [],
   "source": [
    "class Backtest:\n",
    "    def __init__(self, strat=None, bm=None, fin=None, mc=None):\n",
    "        self.strat = strat\n",
    "        self.bm = bm\n",
    "        self.fin = fin\n",
    "        self.mc = mc\n",
    "        \n",
    "    def run(self):\n",
    "        dates = self.mc.index[8:]\n",
    "        positions = {}\n",
    "        nav = {}\n",
    "        positions_bm = {}\n",
    "        nav_bm = {}\n",
    "\n",
    "        for i,date in enumerate(tqdm_notebook(dates)):\n",
    "            positions[date] = self.strat(date, fin=fin, mc=mc)\n",
    "            positions_bm[date] = self.bm(date, fin=fin, mc=mc)\n",
    "\n",
    "            if i==0:\n",
    "                nav[date] = 1\n",
    "                nav_bm[date] = 1\n",
    "\n",
    "            else:\n",
    "                date_prev = dates[i-1]\n",
    "                nav[date] = self._get_nav(nav, positions, date_prev, date)\n",
    "                nav_bm[date] = self._get_nav(nav_bm, positions_bm, date_prev, date)\n",
    "                \n",
    "        self.nav = nav\n",
    "        self.nav_bm = nav_bm\n",
    "        self.positions = positions\n",
    "        self.positions_bm = positions_bm\n",
    "                \n",
    "                \n",
    "    def _get_nav(self, nav, positions, date_prev, date):\n",
    "        nav_prev = nav[date_prev]\n",
    "        pos_prev = positions[date_prev]\n",
    "        assets_prev = pos_prev.index\n",
    "        pos_update = self.mc.loc[date, assets_prev] / self.mc.loc[date_prev, assets_prev] * pos_prev\n",
    "        return nav_prev * pos_update.sum()\n",
    "    \n",
    "    \n",
    "    def navs(self):\n",
    "        return pd.DataFrame({'Strategy':self.nav, 'BM':self.nav_bm})\n",
    "    \n",
    "    def plot_perf(self):\n",
    "        self.navs().plot()\n",
    "        \n",
    "    def plot_stats(self):\n",
    "        self.stats().T.plot.barh()\n",
    "        \n",
    "        \n",
    "    def stats(self):\n",
    "        navs = bt.navs()\n",
    "        days_all = (navs.index[-1]-navs.index[0]).days\n",
    "        ann_rtn = (navs.iloc[-1]**(365/days_all))-1\n",
    "        vol = navs.pct_change().std() * 4**0.5\n",
    "        return pd.DataFrame({'연수익률':ann_rtn, '변동성':vol, '샤프':ann_rtn/vol})"
   ]
  },
  {
   "cell_type": "code",
   "execution_count": 40,
   "metadata": {},
   "outputs": [
    {
     "data": {
      "application/vnd.jupyter.widget-view+json": {
       "model_id": "78b342526ef1478b821cc9ccc085bd19",
       "version_major": 2,
       "version_minor": 0
      },
      "text/plain": [
       "HBox(children=(IntProgress(value=0, max=32), HTML(value='')))"
      ]
     },
     "metadata": {},
     "output_type": "display_data"
    },
    {
     "name": "stdout",
     "output_type": "stream",
     "text": [
      "\n"
     ]
    },
    {
     "data": {
      "image/png": "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\n",
      "text/plain": [
       "<Figure size 432x288 with 1 Axes>"
      ]
     },
     "metadata": {
      "needs_background": "light"
     },
     "output_type": "display_data"
    }
   ],
   "source": [
    "bt = Backtest(strat=시총상위PB저평가, bm=BM, fin=fin, mc=mc)\n",
    "bt.run()\n",
    "bt.plot_perf()"
   ]
  },
  {
   "cell_type": "code",
   "execution_count": 28,
   "metadata": {},
   "outputs": [
    {
     "data": {
      "text/html": [
       "<div>\n",
       "<style scoped>\n",
       "    .dataframe tbody tr th:only-of-type {\n",
       "        vertical-align: middle;\n",
       "    }\n",
       "\n",
       "    .dataframe tbody tr th {\n",
       "        vertical-align: top;\n",
       "    }\n",
       "\n",
       "    .dataframe thead th {\n",
       "        text-align: right;\n",
       "    }\n",
       "</style>\n",
       "<table border=\"1\" class=\"dataframe\">\n",
       "  <thead>\n",
       "    <tr style=\"text-align: right;\">\n",
       "      <th></th>\n",
       "      <th>연수익률</th>\n",
       "      <th>변동성</th>\n",
       "      <th>샤프</th>\n",
       "    </tr>\n",
       "  </thead>\n",
       "  <tbody>\n",
       "    <tr>\n",
       "      <th>Strategy</th>\n",
       "      <td>0.127484</td>\n",
       "      <td>0.168529</td>\n",
       "      <td>0.756450</td>\n",
       "    </tr>\n",
       "    <tr>\n",
       "      <th>BM</th>\n",
       "      <td>0.008227</td>\n",
       "      <td>0.121585</td>\n",
       "      <td>0.067661</td>\n",
       "    </tr>\n",
       "  </tbody>\n",
       "</table>\n",
       "</div>"
      ],
      "text/plain": [
       "              연수익률       변동성        샤프\n",
       "Strategy  0.127484  0.168529  0.756450\n",
       "BM        0.008227  0.121585  0.067661"
      ]
     },
     "execution_count": 28,
     "metadata": {},
     "output_type": "execute_result"
    }
   ],
   "source": [
    "bt.stats()"
   ]
  },
  {
   "cell_type": "code",
   "execution_count": 39,
   "metadata": {},
   "outputs": [],
   "source": [
    "def 시총상위PB저평가(date, fin=None, mc=None, n=10):\n",
    "    year = get_year(date)\n",
    "    marketcap = mc.loc[date].nlargest(200)\n",
    "    univ = marketcap.index\n",
    "    bv = fin['세전순익'].xs(year, level=1).loc[univ]\n",
    "#     bv = fin['자본총계'].xs(year, level=1).loc[univ]\n",
    "    bp = bv / marketcap\n",
    "    position = bp.nlargest(n)\n",
    "    position[:] = 1/len(position)\n",
    "    return position"
   ]
  },
  {
   "cell_type": "code",
   "execution_count": null,
   "metadata": {},
   "outputs": [],
   "source": []
  },
  {
   "cell_type": "code",
   "execution_count": null,
   "metadata": {},
   "outputs": [],
   "source": []
  }
 ],
 "metadata": {
  "kernelspec": {
   "display_name": "Python 3",
   "language": "python",
   "name": "python3"
  },
  "language_info": {
   "codemirror_mode": {
    "name": "ipython",
    "version": 3
   },
   "file_extension": ".py",
   "mimetype": "text/x-python",
   "name": "python",
   "nbconvert_exporter": "python",
   "pygments_lexer": "ipython3",
   "version": "3.7.1"
  }
 },
 "nbformat": 4,
 "nbformat_minor": 2
}
